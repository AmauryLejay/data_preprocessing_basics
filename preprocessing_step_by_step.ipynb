{
 "cells": [
  {
   "cell_type": "markdown",
   "metadata": {},
   "source": [
    "This notebook aims at covering the major preprocessing steps that need to be undertaken for any data science project. Often these steps along with feature engineering will occupy the majority of a data scientist time in such project. Therefore, keeping a structured approach to tackle this task and not missing any steps is a critical to reduce the time to obtain a clean training-ready dataset.\n",
    "\n",
    "The major preprocessing steps include:\n",
    "\n",
    "\n",
    "- **Missing Value identification and filling**\n",
    "- **Outlier identification and treatement**\n",
    "- **Normalization and scalling**    \n",
    "\n",
    "Secondary but still importants preprocesing steps include:\n",
    "\n",
    "- **Potential unbalanced datasets management**\n",
    "- ** Potential feature transformation**"
   ]
  },
  {
   "cell_type": "markdown",
   "metadata": {},
   "source": [
    "****"
   ]
  },
  {
   "cell_type": "code",
   "execution_count": 20,
   "metadata": {
    "ExecuteTime": {
     "end_time": "2019-08-05T22:33:37.676297Z",
     "start_time": "2019-08-05T22:33:37.669333Z"
    },
    "collapsed": true
   },
   "outputs": [],
   "source": [
    "import pandas as pd\n",
    "import numpy as np\n",
    "import math\n",
    "import matplotlib.pyplot as plt\n",
    "\n",
    "# Disabling warnings\n",
    "import warnings\n",
    "warnings.filterwarnings(\"ignore\")"
   ]
  },
  {
   "cell_type": "markdown",
   "metadata": {
    "heading_collapsed": true
   },
   "source": [
    "# Missing Values"
   ]
  },
  {
   "cell_type": "markdown",
   "metadata": {
    "hidden": true
   },
   "source": [
    "Missing values identification and handling is a must-deal-with step that the data scientist will in almost all cases have to have to face. "
   ]
  },
  {
   "cell_type": "markdown",
   "metadata": {
    "heading_collapsed": true,
    "hidden": true
   },
   "source": [
    "##  Identify Missing Values"
   ]
  },
  {
   "cell_type": "markdown",
   "metadata": {
    "heading_collapsed": true,
    "hidden": true
   },
   "source": [
    "### 3 different types of missing values:"
   ]
  },
  {
   "cell_type": "markdown",
   "metadata": {
    "hidden": true
   },
   "source": [
    "- **MCAR** (Missing Completely at random): Randomly distributed missing values accross the dataset. The probability for a value to be missing doesn't depend of the values taken by the other variables, missing or not. Therefore, these missing values are impossible to predict. \n",
    "\n",
    "- **MAR**(Missing at Random) The probability for a value to be missing depends on the value taken by the other \"observed\" variables. (i.e., not the unseen / missing one one). \n",
    "\n",
    "- **MNAR**(Missing not at random) The probability for a value to be missing doesn't depend on the value taken by the other \"observed\" value but by their missing values. \n",
    "\n",
    "The later are the trickest to deal with as they consistute a significant bias for the analysis. The two other are basically random and not so bad. \n",
    "\n",
    "**Note:** In practice, it is difficult to know to which category an attribute belongs to and we will often makes hypothesis about it. "
   ]
  },
  {
   "cell_type": "markdown",
   "metadata": {
    "heading_collapsed": true,
    "hidden": true
   },
   "source": [
    "### Example Identification Missing Values"
   ]
  },
  {
   "cell_type": "code",
   "execution_count": 69,
   "metadata": {
    "ExecuteTime": {
     "end_time": "2019-07-30T04:05:18.083719Z",
     "start_time": "2019-07-30T04:05:18.066695Z"
    },
    "hidden": true
   },
   "outputs": [
    {
     "data": {
      "text/html": [
       "<div>\n",
       "<style scoped>\n",
       "    .dataframe tbody tr th:only-of-type {\n",
       "        vertical-align: middle;\n",
       "    }\n",
       "\n",
       "    .dataframe tbody tr th {\n",
       "        vertical-align: top;\n",
       "    }\n",
       "\n",
       "    .dataframe thead th {\n",
       "        text-align: right;\n",
       "    }\n",
       "</style>\n",
       "<table border=\"1\" class=\"dataframe\">\n",
       "  <thead>\n",
       "    <tr style=\"text-align: right;\">\n",
       "      <th></th>\n",
       "      <th>col_1</th>\n",
       "      <th>col_2</th>\n",
       "    </tr>\n",
       "  </thead>\n",
       "  <tbody>\n",
       "    <tr>\n",
       "      <th>0</th>\n",
       "      <td>1.0</td>\n",
       "      <td>5.0</td>\n",
       "    </tr>\n",
       "    <tr>\n",
       "      <th>1</th>\n",
       "      <td>2.0</td>\n",
       "      <td>NaN</td>\n",
       "    </tr>\n",
       "    <tr>\n",
       "      <th>2</th>\n",
       "      <td>3.0</td>\n",
       "      <td>7.0</td>\n",
       "    </tr>\n",
       "    <tr>\n",
       "      <th>3</th>\n",
       "      <td>NaN</td>\n",
       "      <td>8.0</td>\n",
       "    </tr>\n",
       "  </tbody>\n",
       "</table>\n",
       "</div>"
      ],
      "text/plain": [
       "   col_1  col_2\n",
       "0    1.0    5.0\n",
       "1    2.0    NaN\n",
       "2    3.0    7.0\n",
       "3    NaN    8.0"
      ]
     },
     "execution_count": 69,
     "metadata": {},
     "output_type": "execute_result"
    }
   ],
   "source": [
    "# Example dataframe to work out of in our example\n",
    "df = pd.DataFrame(data= {\"col_1\":[1,2,3,np.nan],\"col_2\":[5,np.nan,7,8]})\n",
    "df"
   ]
  },
  {
   "cell_type": "code",
   "execution_count": 6,
   "metadata": {
    "ExecuteTime": {
     "end_time": "2019-07-30T02:29:03.045632Z",
     "start_time": "2019-07-30T02:29:03.036186Z"
    },
    "hidden": true
   },
   "outputs": [
    {
     "data": {
      "text/plain": [
       "True"
      ]
     },
     "execution_count": 6,
     "metadata": {},
     "output_type": "execute_result"
    }
   ],
   "source": [
    "#Is there any? \n",
    "df.isnull().values.any()"
   ]
  },
  {
   "cell_type": "code",
   "execution_count": 7,
   "metadata": {
    "ExecuteTime": {
     "end_time": "2019-07-30T02:29:06.696544Z",
     "start_time": "2019-07-30T02:29:06.685815Z"
    },
    "hidden": true
   },
   "outputs": [
    {
     "data": {
      "text/plain": [
       "1"
      ]
     },
     "execution_count": 7,
     "metadata": {},
     "output_type": "execute_result"
    }
   ],
   "source": [
    "#How many total? \n",
    "df.isnull().sum().sum()"
   ]
  },
  {
   "cell_type": "code",
   "execution_count": 8,
   "metadata": {
    "ExecuteTime": {
     "end_time": "2019-07-30T02:29:10.427956Z",
     "start_time": "2019-07-30T02:29:10.417610Z"
    },
    "hidden": true
   },
   "outputs": [
    {
     "data": {
      "text/plain": [
       "array([1, 0])"
      ]
     },
     "execution_count": 8,
     "metadata": {},
     "output_type": "execute_result"
    }
   ],
   "source": [
    "#How many by columns? \n",
    "sum(list(df.isnull().values== True))"
   ]
  },
  {
   "cell_type": "markdown",
   "metadata": {
    "heading_collapsed": true,
    "hidden": true
   },
   "source": [
    "## Handling Missing Values "
   ]
  },
  {
   "cell_type": "markdown",
   "metadata": {
    "hidden": true
   },
   "source": [
    "There exists several methods to deal with missing values, mostly spread in 2 categories:\n",
    "\n",
    "- Deleting them    \n",
    "- Deduce them \n",
    "        - Mean, Median\n",
    "        - Linear regression\n",
    "        - K nearest neightbors "
   ]
  },
  {
   "cell_type": "markdown",
   "metadata": {
    "hidden": true
   },
   "source": [
    "### Example "
   ]
  },
  {
   "cell_type": "code",
   "execution_count": 71,
   "metadata": {
    "ExecuteTime": {
     "end_time": "2019-07-30T04:08:48.389231Z",
     "start_time": "2019-07-30T04:08:48.374115Z"
    },
    "hidden": true
   },
   "outputs": [
    {
     "data": {
      "text/html": [
       "<div>\n",
       "<style scoped>\n",
       "    .dataframe tbody tr th:only-of-type {\n",
       "        vertical-align: middle;\n",
       "    }\n",
       "\n",
       "    .dataframe tbody tr th {\n",
       "        vertical-align: top;\n",
       "    }\n",
       "\n",
       "    .dataframe thead th {\n",
       "        text-align: right;\n",
       "    }\n",
       "</style>\n",
       "<table border=\"1\" class=\"dataframe\">\n",
       "  <thead>\n",
       "    <tr style=\"text-align: right;\">\n",
       "      <th></th>\n",
       "      <th>col_1</th>\n",
       "      <th>col_2</th>\n",
       "      <th>col_3</th>\n",
       "    </tr>\n",
       "  </thead>\n",
       "  <tbody>\n",
       "    <tr>\n",
       "      <th>0</th>\n",
       "      <td>1.0</td>\n",
       "      <td>5.0</td>\n",
       "      <td>9</td>\n",
       "    </tr>\n",
       "    <tr>\n",
       "      <th>1</th>\n",
       "      <td>2.0</td>\n",
       "      <td>NaN</td>\n",
       "      <td>10</td>\n",
       "    </tr>\n",
       "    <tr>\n",
       "      <th>2</th>\n",
       "      <td>3.0</td>\n",
       "      <td>7.0</td>\n",
       "      <td>11</td>\n",
       "    </tr>\n",
       "    <tr>\n",
       "      <th>3</th>\n",
       "      <td>NaN</td>\n",
       "      <td>8.0</td>\n",
       "      <td>12</td>\n",
       "    </tr>\n",
       "  </tbody>\n",
       "</table>\n",
       "</div>"
      ],
      "text/plain": [
       "   col_1  col_2  col_3\n",
       "0    1.0    5.0      9\n",
       "1    2.0    NaN     10\n",
       "2    3.0    7.0     11\n",
       "3    NaN    8.0     12"
      ]
     },
     "execution_count": 71,
     "metadata": {},
     "output_type": "execute_result"
    }
   ],
   "source": [
    "df = pd.DataFrame(data= {\"col_1\":[1,2,3,np.nan],\"col_2\":[5,np.nan,7,8],\"col_3\":[9,10,11,12]})\n",
    "df"
   ]
  },
  {
   "cell_type": "markdown",
   "metadata": {
    "heading_collapsed": true,
    "hidden": true
   },
   "source": [
    "#### Deleting missing values"
   ]
  },
  {
   "cell_type": "markdown",
   "metadata": {
    "hidden": true
   },
   "source": [
    "Deleting the records that contain 1 or more Missing Value is not advised in cased where more than 5% of the dataset is removed as this may remove actual information from the dataset i.e. the missing values mean something for instance."
   ]
  },
  {
   "cell_type": "code",
   "execution_count": 66,
   "metadata": {
    "ExecuteTime": {
     "end_time": "2019-07-30T03:05:31.288665Z",
     "start_time": "2019-07-30T03:05:31.275470Z"
    },
    "hidden": true
   },
   "outputs": [
    {
     "data": {
      "text/html": [
       "<div>\n",
       "<style scoped>\n",
       "    .dataframe tbody tr th:only-of-type {\n",
       "        vertical-align: middle;\n",
       "    }\n",
       "\n",
       "    .dataframe tbody tr th {\n",
       "        vertical-align: top;\n",
       "    }\n",
       "\n",
       "    .dataframe thead th {\n",
       "        text-align: right;\n",
       "    }\n",
       "</style>\n",
       "<table border=\"1\" class=\"dataframe\">\n",
       "  <thead>\n",
       "    <tr style=\"text-align: right;\">\n",
       "      <th></th>\n",
       "      <th>col_1</th>\n",
       "      <th>col_2</th>\n",
       "    </tr>\n",
       "  </thead>\n",
       "  <tbody>\n",
       "    <tr>\n",
       "      <th>0</th>\n",
       "      <td>1.0</td>\n",
       "      <td>5.0</td>\n",
       "    </tr>\n",
       "    <tr>\n",
       "      <th>1</th>\n",
       "      <td>2.0</td>\n",
       "      <td>NaN</td>\n",
       "    </tr>\n",
       "    <tr>\n",
       "      <th>2</th>\n",
       "      <td>3.0</td>\n",
       "      <td>7.0</td>\n",
       "    </tr>\n",
       "    <tr>\n",
       "      <th>3</th>\n",
       "      <td>NaN</td>\n",
       "      <td>8.0</td>\n",
       "    </tr>\n",
       "  </tbody>\n",
       "</table>\n",
       "</div>"
      ],
      "text/plain": [
       "   col_1  col_2\n",
       "0    1.0    5.0\n",
       "1    2.0    NaN\n",
       "2    3.0    7.0\n",
       "3    NaN    8.0"
      ]
     },
     "execution_count": 66,
     "metadata": {},
     "output_type": "execute_result"
    }
   ],
   "source": [
    "df.dropna(axis =1, subset = None,thresh = 2, inplace = True) \n",
    "# Possible to filter the column to remove\n",
    "# Possible to set the minimum number NAs needed to remove the column or row\n",
    "# Watch out - the thresh will not be the same with axis = 1 or axis = 0\n",
    "df"
   ]
  },
  {
   "cell_type": "markdown",
   "metadata": {
    "heading_collapsed": true,
    "hidden": true
   },
   "source": [
    "#### Replacing them - mean, median, 0 ..."
   ]
  },
  {
   "cell_type": "markdown",
   "metadata": {
    "hidden": true
   },
   "source": [
    "1st option - Replace() method \n",
    "Note how pandas automatically calculate and replace \n",
    "the missing value with the mean / median of the column\n",
    "of the missing value.\n",
    "\n"
   ]
  },
  {
   "cell_type": "code",
   "execution_count": 37,
   "metadata": {
    "ExecuteTime": {
     "end_time": "2019-07-30T02:57:44.007735Z",
     "start_time": "2019-07-30T02:57:43.986653Z"
    },
    "hidden": true
   },
   "outputs": [
    {
     "data": {
      "text/html": [
       "<div>\n",
       "<style scoped>\n",
       "    .dataframe tbody tr th:only-of-type {\n",
       "        vertical-align: middle;\n",
       "    }\n",
       "\n",
       "    .dataframe tbody tr th {\n",
       "        vertical-align: top;\n",
       "    }\n",
       "\n",
       "    .dataframe thead th {\n",
       "        text-align: right;\n",
       "    }\n",
       "</style>\n",
       "<table border=\"1\" class=\"dataframe\">\n",
       "  <thead>\n",
       "    <tr style=\"text-align: right;\">\n",
       "      <th></th>\n",
       "      <th>col_1</th>\n",
       "      <th>col_2</th>\n",
       "    </tr>\n",
       "  </thead>\n",
       "  <tbody>\n",
       "    <tr>\n",
       "      <th>0</th>\n",
       "      <td>1.0</td>\n",
       "      <td>5.000000</td>\n",
       "    </tr>\n",
       "    <tr>\n",
       "      <th>1</th>\n",
       "      <td>2.0</td>\n",
       "      <td>6.666667</td>\n",
       "    </tr>\n",
       "    <tr>\n",
       "      <th>2</th>\n",
       "      <td>3.0</td>\n",
       "      <td>7.000000</td>\n",
       "    </tr>\n",
       "    <tr>\n",
       "      <th>3</th>\n",
       "      <td>2.0</td>\n",
       "      <td>8.000000</td>\n",
       "    </tr>\n",
       "  </tbody>\n",
       "</table>\n",
       "</div>"
      ],
      "text/plain": [
       "   col_1     col_2\n",
       "0    1.0  5.000000\n",
       "1    2.0  6.666667\n",
       "2    3.0  7.000000\n",
       "3    2.0  8.000000"
      ]
     },
     "execution_count": 37,
     "metadata": {},
     "output_type": "execute_result"
    }
   ],
   "source": [
    "df.replace(np.nan,df.mean(),inplace = True) # Could be replace with .median() or any integer ex: 0 \n",
    "df"
   ]
  },
  {
   "cell_type": "markdown",
   "metadata": {
    "hidden": true
   },
   "source": [
    "2nd option - Alternative fillna() method"
   ]
  },
  {
   "cell_type": "code",
   "execution_count": 35,
   "metadata": {
    "ExecuteTime": {
     "end_time": "2019-07-30T02:56:17.151936Z",
     "start_time": "2019-07-30T02:56:17.137100Z"
    },
    "hidden": true
   },
   "outputs": [
    {
     "data": {
      "text/html": [
       "<div>\n",
       "<style scoped>\n",
       "    .dataframe tbody tr th:only-of-type {\n",
       "        vertical-align: middle;\n",
       "    }\n",
       "\n",
       "    .dataframe tbody tr th {\n",
       "        vertical-align: top;\n",
       "    }\n",
       "\n",
       "    .dataframe thead th {\n",
       "        text-align: right;\n",
       "    }\n",
       "</style>\n",
       "<table border=\"1\" class=\"dataframe\">\n",
       "  <thead>\n",
       "    <tr style=\"text-align: right;\">\n",
       "      <th></th>\n",
       "      <th>col_1</th>\n",
       "      <th>col_2</th>\n",
       "    </tr>\n",
       "  </thead>\n",
       "  <tbody>\n",
       "    <tr>\n",
       "      <th>0</th>\n",
       "      <td>1.0</td>\n",
       "      <td>5.000000</td>\n",
       "    </tr>\n",
       "    <tr>\n",
       "      <th>1</th>\n",
       "      <td>2.0</td>\n",
       "      <td>6.666667</td>\n",
       "    </tr>\n",
       "    <tr>\n",
       "      <th>2</th>\n",
       "      <td>3.0</td>\n",
       "      <td>7.000000</td>\n",
       "    </tr>\n",
       "    <tr>\n",
       "      <th>3</th>\n",
       "      <td>2.0</td>\n",
       "      <td>8.000000</td>\n",
       "    </tr>\n",
       "  </tbody>\n",
       "</table>\n",
       "</div>"
      ],
      "text/plain": [
       "   col_1     col_2\n",
       "0    1.0  5.000000\n",
       "1    2.0  6.666667\n",
       "2    3.0  7.000000\n",
       "3    2.0  8.000000"
      ]
     },
     "execution_count": 35,
     "metadata": {},
     "output_type": "execute_result"
    }
   ],
   "source": [
    "for col in list(df.columns):\n",
    "    df[col].fillna(df[col].mean(),inplace = True)\n",
    "df"
   ]
  },
  {
   "cell_type": "markdown",
   "metadata": {
    "hidden": true
   },
   "source": [
    "#### Guess the replacing value"
   ]
  },
  {
   "cell_type": "markdown",
   "metadata": {
    "hidden": true
   },
   "source": [
    "Idea is to replace the missing value based on other variables in the dataset. Two major algorithms can be used for such guess:\n",
    "\n",
    "- K Nearest Neighbors\n",
    "- Linear Regression"
   ]
  },
  {
   "cell_type": "markdown",
   "metadata": {
    "hidden": true
   },
   "source": [
    "##### KNN - K neirest neightbors"
   ]
  },
  {
   "cell_type": "markdown",
   "metadata": {
    "hidden": true
   },
   "source": [
    "Can be used for missing values replacement by the time there is a relationship between the missing value variables and the other variables of the dataset. \n",
    "<br> KNN can be used for categorical, numerical, continuous and discrete values. \n",
    "    "
   ]
  },
  {
   "cell_type": "markdown",
   "metadata": {
    "hidden": true
   },
   "source": [
    "**Parameters of KNN**\n",
    "\n",
    "   \n",
    "- **K** = Number of neighbors to make a decision on. Too big = blur local effet. Too small = Noisy and less generalizable. For binary missing value, take an odd k fo obvious reasons. \n",
    "\n",
    "\n",
    "- **aggregation method** = mean, median, mode for numeric variables and mode for categorical ones. \n",
    "\n",
    "\n",
    "- **Normalization Yes / No **  To find the neirest neighbors, the algorithm computes the distance between the target points and other points. Depending on the scale, may need to normalize to not compare peaches and apples. \n",
    "\n",
    "\n",
    "- **Numeric attribute distance** = type of distance. Can be ***euclidean*** or ***manhattan***. Euclidean is good for input data (i.e. attributes of points) with similar units. Manhattan is good for input variables with different units (ex: age, height etc). \n",
    "\n",
    "\n",
    "- **Categorical attribute distances** = Should generally use the Hamming distance : take all categorical attributes of both x and y and add 1 for each different attributes.\n",
    "\n",
    "\n",
    "- **Binary attribute distances** For those specific attribute, we generally transform them into dummies and then compute the euclidean distance. \n"
   ]
  },
  {
   "cell_type": "markdown",
   "metadata": {
    "ExecuteTime": {
     "end_time": "2019-07-30T04:07:23.346218Z",
     "start_time": "2019-07-30T04:07:23.337659Z"
    },
    "hidden": true
   },
   "source": [
    " Code for KNN NA replacement: \n",
    "<br> https://gist.github.com/YohanObadia/b310793cd22a4427faaadd9c381a5850\n",
    "\n",
    "Code for Scikit Learn KNN algorithm:\n",
    "https://scikit-learn.org/stable/modules/generated/sklearn.neighbors.KNeighborsClassifier.html"
   ]
  },
  {
   "attachments": {
    "Screen%20Shot%202019-07-29%20at%2023.34.39.png": {
     "image/png": "[encoded data removed]"
    }
   },
   "cell_type": "markdown",
   "metadata": {
    "hidden": true
   },
   "source": [
    "![Screen%20Shot%202019-07-29%20at%2023.34.39.png](attachment:Screen%20Shot%202019-07-29%20at%2023.34.39.png)"
   ]
  },
  {
   "cell_type": "markdown",
   "metadata": {
    "hidden": true
   },
   "source": [
    "##### Linear regression"
   ]
  },
  {
   "cell_type": "code",
   "execution_count": 72,
   "metadata": {
    "ExecuteTime": {
     "end_time": "2019-07-30T04:10:32.971760Z",
     "start_time": "2019-07-30T04:10:32.965459Z"
    },
    "collapsed": true,
    "hidden": true
   },
   "outputs": [],
   "source": [
    "from sklearn.linear_model import LinearRegression"
   ]
  },
  {
   "cell_type": "markdown",
   "metadata": {
    "hidden": true
   },
   "source": [
    "In this example, we will try to figure out the linear relationship between the column 1 and the col 2 and 3 in order to predict the missing value of col_1"
   ]
  },
  {
   "cell_type": "code",
   "execution_count": 85,
   "metadata": {
    "ExecuteTime": {
     "end_time": "2019-07-30T04:22:22.369158Z",
     "start_time": "2019-07-30T04:22:22.351664Z"
    },
    "hidden": true
   },
   "outputs": [
    {
     "data": {
      "text/html": [
       "<div>\n",
       "<style scoped>\n",
       "    .dataframe tbody tr th:only-of-type {\n",
       "        vertical-align: middle;\n",
       "    }\n",
       "\n",
       "    .dataframe tbody tr th {\n",
       "        vertical-align: top;\n",
       "    }\n",
       "\n",
       "    .dataframe thead th {\n",
       "        text-align: right;\n",
       "    }\n",
       "</style>\n",
       "<table border=\"1\" class=\"dataframe\">\n",
       "  <thead>\n",
       "    <tr style=\"text-align: right;\">\n",
       "      <th></th>\n",
       "      <th>col_1</th>\n",
       "      <th>col_2</th>\n",
       "      <th>col_3</th>\n",
       "    </tr>\n",
       "  </thead>\n",
       "  <tbody>\n",
       "    <tr>\n",
       "      <th>0</th>\n",
       "      <td>1.0</td>\n",
       "      <td>5</td>\n",
       "      <td>9</td>\n",
       "    </tr>\n",
       "    <tr>\n",
       "      <th>1</th>\n",
       "      <td>2.0</td>\n",
       "      <td>6</td>\n",
       "      <td>10</td>\n",
       "    </tr>\n",
       "    <tr>\n",
       "      <th>2</th>\n",
       "      <td>3.0</td>\n",
       "      <td>7</td>\n",
       "      <td>11</td>\n",
       "    </tr>\n",
       "    <tr>\n",
       "      <th>3</th>\n",
       "      <td>NaN</td>\n",
       "      <td>8</td>\n",
       "      <td>12</td>\n",
       "    </tr>\n",
       "  </tbody>\n",
       "</table>\n",
       "</div>"
      ],
      "text/plain": [
       "   col_1  col_2  col_3\n",
       "0    1.0      5      9\n",
       "1    2.0      6     10\n",
       "2    3.0      7     11\n",
       "3    NaN      8     12"
      ]
     },
     "execution_count": 85,
     "metadata": {},
     "output_type": "execute_result"
    }
   ],
   "source": [
    "df = pd.DataFrame(data= {\"col_1\":[1,2,3,np.nan],\"col_2\":[5,6,7,8],\"col_3\":[9,10,11,12]})\n",
    "df"
   ]
  },
  {
   "cell_type": "code",
   "execution_count": 91,
   "metadata": {
    "ExecuteTime": {
     "end_time": "2019-08-03T17:35:25.389532Z",
     "start_time": "2019-08-03T17:35:25.304452Z"
    },
    "hidden": true
   },
   "outputs": [
    {
     "data": {
      "text/html": [
       "<div>\n",
       "<style scoped>\n",
       "    .dataframe tbody tr th:only-of-type {\n",
       "        vertical-align: middle;\n",
       "    }\n",
       "\n",
       "    .dataframe tbody tr th {\n",
       "        vertical-align: top;\n",
       "    }\n",
       "\n",
       "    .dataframe thead th {\n",
       "        text-align: right;\n",
       "    }\n",
       "</style>\n",
       "<table border=\"1\" class=\"dataframe\">\n",
       "  <thead>\n",
       "    <tr style=\"text-align: right;\">\n",
       "      <th></th>\n",
       "      <th>col_1</th>\n",
       "      <th>col_2</th>\n",
       "      <th>col_3</th>\n",
       "    </tr>\n",
       "  </thead>\n",
       "  <tbody>\n",
       "    <tr>\n",
       "      <th>0</th>\n",
       "      <td>1.0</td>\n",
       "      <td>5</td>\n",
       "      <td>9</td>\n",
       "    </tr>\n",
       "    <tr>\n",
       "      <th>1</th>\n",
       "      <td>2.0</td>\n",
       "      <td>6</td>\n",
       "      <td>10</td>\n",
       "    </tr>\n",
       "    <tr>\n",
       "      <th>2</th>\n",
       "      <td>3.0</td>\n",
       "      <td>7</td>\n",
       "      <td>11</td>\n",
       "    </tr>\n",
       "  </tbody>\n",
       "</table>\n",
       "</div>"
      ],
      "text/plain": [
       "   col_1  col_2  col_3\n",
       "0    1.0      5      9\n",
       "1    2.0      6     10\n",
       "2    3.0      7     11"
      ]
     },
     "execution_count": 91,
     "metadata": {},
     "output_type": "execute_result"
    }
   ],
   "source": [
    "linreg = LinearRegression()\n",
    "#dropping NAs for training on the rows that don't contains NAs and figure out the relationship\n",
    "data_with_null = df[list(df.columns)]\n",
    "data_without_null = data_with_null.dropna()\n",
    "\n",
    "# Training Data\n",
    "data_without_null"
   ]
  },
  {
   "cell_type": "code",
   "execution_count": 87,
   "metadata": {
    "ExecuteTime": {
     "end_time": "2019-07-30T04:22:32.831171Z",
     "start_time": "2019-07-30T04:22:32.813376Z"
    },
    "collapsed": true,
    "hidden": true
   },
   "outputs": [],
   "source": [
    "# defining predicting features - col_1\n",
    "x = data_without_null.iloc[:,1:]\n",
    "# defining target features - col_2\n",
    "y = data_without_null.iloc[:,:1]\n",
    "\n",
    "#training model\n",
    "linreg.fit(x,y)\n",
    "\n",
    "#applying model\n",
    "test_data = data_with_null.iloc[:,1:]\n",
    "col_1_predicted = pd.DataFrame(index = data_with_null.index, columns = ['col_1'])\n",
    "col_1_predicted['col_1']= pd.DataFrame(linreg.predict(test_data))"
   ]
  },
  {
   "cell_type": "markdown",
   "metadata": {
    "hidden": true
   },
   "source": [
    "Not that if several columns have NAs, you may want to train, test and apply the model only on the subset of columns that don't have NAs using for instance the dropna method on the fit and predict methods."
   ]
  },
  {
   "cell_type": "code",
   "execution_count": 89,
   "metadata": {
    "ExecuteTime": {
     "end_time": "2019-07-30T04:23:03.563026Z",
     "start_time": "2019-07-30T04:23:03.557219Z"
    },
    "collapsed": true,
    "hidden": true
   },
   "outputs": [],
   "source": [
    "#Replacing in the initial daaset\n",
    "data_with_null['col_1']= col_1_predicted['col_1']"
   ]
  },
  {
   "cell_type": "code",
   "execution_count": 90,
   "metadata": {
    "ExecuteTime": {
     "end_time": "2019-07-30T04:23:04.221542Z",
     "start_time": "2019-07-30T04:23:04.209738Z"
    },
    "hidden": true
   },
   "outputs": [
    {
     "data": {
      "text/html": [
       "<div>\n",
       "<style scoped>\n",
       "    .dataframe tbody tr th:only-of-type {\n",
       "        vertical-align: middle;\n",
       "    }\n",
       "\n",
       "    .dataframe tbody tr th {\n",
       "        vertical-align: top;\n",
       "    }\n",
       "\n",
       "    .dataframe thead th {\n",
       "        text-align: right;\n",
       "    }\n",
       "</style>\n",
       "<table border=\"1\" class=\"dataframe\">\n",
       "  <thead>\n",
       "    <tr style=\"text-align: right;\">\n",
       "      <th></th>\n",
       "      <th>col_1</th>\n",
       "      <th>col_2</th>\n",
       "      <th>col_3</th>\n",
       "    </tr>\n",
       "  </thead>\n",
       "  <tbody>\n",
       "    <tr>\n",
       "      <th>0</th>\n",
       "      <td>1.0</td>\n",
       "      <td>5</td>\n",
       "      <td>9</td>\n",
       "    </tr>\n",
       "    <tr>\n",
       "      <th>1</th>\n",
       "      <td>2.0</td>\n",
       "      <td>6</td>\n",
       "      <td>10</td>\n",
       "    </tr>\n",
       "    <tr>\n",
       "      <th>2</th>\n",
       "      <td>3.0</td>\n",
       "      <td>7</td>\n",
       "      <td>11</td>\n",
       "    </tr>\n",
       "    <tr>\n",
       "      <th>3</th>\n",
       "      <td>4.0</td>\n",
       "      <td>8</td>\n",
       "      <td>12</td>\n",
       "    </tr>\n",
       "  </tbody>\n",
       "</table>\n",
       "</div>"
      ],
      "text/plain": [
       "   col_1  col_2  col_3\n",
       "0    1.0      5      9\n",
       "1    2.0      6     10\n",
       "2    3.0      7     11\n",
       "3    4.0      8     12"
      ]
     },
     "execution_count": 90,
     "metadata": {},
     "output_type": "execute_result"
    }
   ],
   "source": [
    "# Notice how the missing value of the col_1 last rows\n",
    "data_with_null"
   ]
  },
  {
   "cell_type": "markdown",
   "metadata": {
    "heading_collapsed": true
   },
   "source": [
    "# Outliers Identification and treatment "
   ]
  },
  {
   "cell_type": "markdown",
   "metadata": {
    "heading_collapsed": true,
    "hidden": true
   },
   "source": [
    "## Identify Outlier values"
   ]
  },
  {
   "cell_type": "markdown",
   "metadata": {
    "hidden": true
   },
   "source": [
    "There exist different types of outliers:\n",
    "- Some may be **actual errors** in the input (ex: data recording error by humans sometimes refered to as \"fat-finger\", or machine failure).\n",
    "- Other outliers on the otherhand are not errors and **actually carry valuable information**.\n",
    "\n",
    "Identifying them is important in any case but the handling method will difer between the two."
   ]
  },
  {
   "cell_type": "markdown",
   "metadata": {
    "hidden": true
   },
   "source": [
    "Also, note that outliers may be found in a **single attribute of an entry (univariate case)** or in **multiple entries at the same time (mutlivariate)**. The idenfication methods will differ in both cases as explained below."
   ]
  },
  {
   "cell_type": "markdown",
   "metadata": {
    "heading_collapsed": true,
    "hidden": true
   },
   "source": [
    "## Handling Outliers"
   ]
  },
  {
   "cell_type": "markdown",
   "metadata": {
    "hidden": true
   },
   "source": [
    "Several options including correcting the value, removing it, keeping it, reporting findings with and without it, or transforming the data (log transformation for instance) to reduce the error variance and the influence of such outliers."
   ]
  },
  {
   "cell_type": "markdown",
   "metadata": {
    "hidden": true
   },
   "source": [
    "### Univariate case:"
   ]
  },
  {
   "cell_type": "markdown",
   "metadata": {
    "hidden": true
   },
   "source": [
    "As an example, a person recording include the following:\n",
    "    - height: 1,83m \n",
    "    - age: 156 years old\n",
    "    - Gender: M\n",
    "In this case, only the age, representing a single variable, is an outlier. Univariate methods will only be useful to detect the age outlier value in a single of these variable. "
   ]
  },
  {
   "cell_type": "markdown",
   "metadata": {
    "heading_collapsed": true,
    "hidden": true
   },
   "source": [
    "#### Box Plot - standard deviation approach"
   ]
  },
  {
   "cell_type": "markdown",
   "metadata": {
    "hidden": true
   },
   "source": [
    "First method involves looking at the standard deviation using box plot, and the standard approach for 2.2 standard deviation (for normally distributed values) or number of median derivate, or +/- 1.5IQR (inter quartile range) method."
   ]
  },
  {
   "cell_type": "code",
   "execution_count": 241,
   "metadata": {
    "ExecuteTime": {
     "end_time": "2019-08-03T20:15:06.054327Z",
     "start_time": "2019-08-03T20:15:05.935508Z"
    },
    "hidden": true
   },
   "outputs": [
    {
     "data": {
      "image/png": "[encoded data removed]",
      "text/plain": [
       "<matplotlib.figure.Figure at 0x1a16773048>"
      ]
     },
     "metadata": {},
     "output_type": "display_data"
    }
   ],
   "source": [
    "abscice = np.arange(-1,1,0.05)\n",
    "ordonnee = [math.sin(x*math.pi)  for x in abscice]\n",
    "ordonnee[30]=0\n",
    "ordonnee[5]= -3\n",
    "plt.boxplot(ordonnee,0,'gD')\n",
    "plt.show()"
   ]
  },
  {
   "cell_type": "markdown",
   "metadata": {
    "hidden": true
   },
   "source": [
    "The box plot is very useful to visualize the distribution of potential outlier values but realistically, in actual code, one may simply check if a given value exceed a theshold of X standard deviations of the dataset. "
   ]
  },
  {
   "cell_type": "code",
   "execution_count": 242,
   "metadata": {
    "ExecuteTime": {
     "end_time": "2019-08-03T20:15:09.478222Z",
     "start_time": "2019-08-03T20:15:09.464657Z"
    },
    "hidden": true
   },
   "outputs": [
    {
     "name": "stdout",
     "output_type": "stream",
     "text": [
      "-3 is an outlier\n",
      "1 outliers identified, exceeding 1.98 the standard deviation\n"
     ]
    }
   ],
   "source": [
    "def identify_outliers(target_list,threshold_standard_dev = 1.98):\n",
    "    nbr_of_outliers_identified = 0\n",
    "    standard_dev = np.std(target_list)\n",
    "    for value in target_list:\n",
    "        if abs(value) > threshold_standard_dev*standard_dev:\n",
    "            print(\"{} is an outlier\".format(value))\n",
    "            nbr_of_outliers_identified += 1\n",
    "    print(\"{} outliers identified, exceeding {} the standard deviation\".format(nbr_of_outliers_identified,threshold_standard_dev))\n",
    "    \n",
    "identify_outliers(ordonnee)"
   ]
  },
  {
   "cell_type": "markdown",
   "metadata": {
    "ExecuteTime": {
     "end_time": "2019-08-03T18:05:47.523802Z",
     "start_time": "2019-08-03T18:05:47.519228Z"
    },
    "heading_collapsed": true,
    "hidden": true
   },
   "source": [
    "#### Time series particular case"
   ]
  },
  {
   "cell_type": "markdown",
   "metadata": {
    "hidden": true
   },
   "source": [
    "One particular case occure with time series as diplayed in the example below where for instance, the 1st outlier at indice -0.75 will be flagged according to our box plot method above, whereas the second outlier lying within the data range, but still exceeding the local data average value won't be flagged."
   ]
  },
  {
   "cell_type": "code",
   "execution_count": 243,
   "metadata": {
    "ExecuteTime": {
     "end_time": "2019-08-03T20:15:11.356411Z",
     "start_time": "2019-08-03T20:15:11.217612Z"
    },
    "hidden": true
   },
   "outputs": [
    {
     "data": {
      "image/png": "[encoded data removed]",
      "text/plain": [
       "<matplotlib.figure.Figure at 0x1a167735c0>"
      ]
     },
     "metadata": {},
     "output_type": "display_data"
    }
   ],
   "source": [
    "plt.scatter(abscice, ordonnee)\n",
    "plt.show()"
   ]
  },
  {
   "cell_type": "markdown",
   "metadata": {
    "hidden": true
   },
   "source": [
    "One way to spot such hidden missing values is to use rolling mean/standard deviation/median measurement and thresholds. \n",
    "\n",
    "The idea is to spot as an outlier any value that exceed by a certain threshold the average/median/std deviation of historical values in a given period. In our example, the second outlier doesn't exceed the average of all the values accross time ( -1 to 1 ), however, it does exceed them if you only look at the timeframe surrounding the value in question (0.25 to 0.5). \n",
    "\n",
    "*Be careful to remove all potential missing value before performing the rolling mean on a dataset.*"
   ]
  },
  {
   "cell_type": "code",
   "execution_count": 275,
   "metadata": {
    "ExecuteTime": {
     "end_time": "2019-08-03T20:35:48.740605Z",
     "start_time": "2019-08-03T20:35:48.696108Z"
    },
    "collapsed": true,
    "hidden": true
   },
   "outputs": [],
   "source": [
    "# Dummy dataframe made of the data above\n",
    "df_ex = pd.DataFrame(ordonnee,columns = [\"ordonnee\"])\n",
    "\n",
    "def rolling_mean_outlier_detection(df,value_column,threshold = 2,window = 10):\n",
    "\n",
    "    # Calculating the rolling mean\n",
    "    df['rolling_mean'] = df[value_column].rolling(window).mean()\n",
    "    \n",
    "    # Creating an outlier column\n",
    "    def _check_outlier(row,threshold):\n",
    "        res = 0\n",
    "        if abs(row[value_column]) > abs(row['rolling_mean'])*threshold:\n",
    "            res = 1\n",
    "        return res\n",
    "    \n",
    "    df['is_an_outlier'] = df.apply(lambda row: _check_outlier(row,threshold),axis = 1)\n",
    "    \n",
    "    # Displaying the dataframe\n",
    "    display(df.tail(7))\n",
    "\n",
    "    # Plotting\n",
    "    plt.scatter(np.array(df.index),np.array(df[value_column]))\n",
    "    plt.scatter(np.array(df.index),np.array(df[\"rolling_mean\"]))\n",
    "    plt.title(\"rolling mean methodology to identify outliers in time series\")\n",
    "    plt.legend([\"values\",\"rolling mean {} periods\".format(window)])\n",
    "    plt.show()\n",
    "    \n",
    "    # How many outliers spotted ? \n",
    "    print(\"{} outliers spotted with a threshold of {}\".format(df[df['is_an_outlier']==1].shape[0],threshold))\n",
    "    \n",
    "    return df "
   ]
  },
  {
   "cell_type": "code",
   "execution_count": 276,
   "metadata": {
    "ExecuteTime": {
     "end_time": "2019-08-03T20:35:49.480332Z",
     "start_time": "2019-08-03T20:35:49.296749Z"
    },
    "hidden": true
   },
   "outputs": [
    {
     "data": {
      "text/html": [
       "<div>\n",
       "<style scoped>\n",
       "    .dataframe tbody tr th:only-of-type {\n",
       "        vertical-align: middle;\n",
       "    }\n",
       "\n",
       "    .dataframe tbody tr th {\n",
       "        vertical-align: top;\n",
       "    }\n",
       "\n",
       "    .dataframe thead th {\n",
       "        text-align: right;\n",
       "    }\n",
       "</style>\n",
       "<table border=\"1\" class=\"dataframe\">\n",
       "  <thead>\n",
       "    <tr style=\"text-align: right;\">\n",
       "      <th></th>\n",
       "      <th>ordonnee</th>\n",
       "      <th>rolling_mean</th>\n",
       "      <th>is_an_outlier</th>\n",
       "    </tr>\n",
       "  </thead>\n",
       "  <tbody>\n",
       "    <tr>\n",
       "      <th>33</th>\n",
       "      <td>0.891007</td>\n",
       "      <td>0.776341</td>\n",
       "      <td>0</td>\n",
       "    </tr>\n",
       "    <tr>\n",
       "      <th>34</th>\n",
       "      <td>0.809017</td>\n",
       "      <td>0.798464</td>\n",
       "      <td>0</td>\n",
       "    </tr>\n",
       "    <tr>\n",
       "      <th>35</th>\n",
       "      <td>0.707107</td>\n",
       "      <td>0.798464</td>\n",
       "      <td>0</td>\n",
       "    </tr>\n",
       "    <tr>\n",
       "      <th>36</th>\n",
       "      <td>0.587785</td>\n",
       "      <td>0.776341</td>\n",
       "      <td>0</td>\n",
       "    </tr>\n",
       "    <tr>\n",
       "      <th>37</th>\n",
       "      <td>0.453990</td>\n",
       "      <td>0.732640</td>\n",
       "      <td>0</td>\n",
       "    </tr>\n",
       "    <tr>\n",
       "      <th>38</th>\n",
       "      <td>0.309017</td>\n",
       "      <td>0.668436</td>\n",
       "      <td>0</td>\n",
       "    </tr>\n",
       "    <tr>\n",
       "      <th>39</th>\n",
       "      <td>0.156434</td>\n",
       "      <td>0.585310</td>\n",
       "      <td>0</td>\n",
       "    </tr>\n",
       "  </tbody>\n",
       "</table>\n",
       "</div>"
      ],
      "text/plain": [
       "    ordonnee  rolling_mean  is_an_outlier\n",
       "33  0.891007      0.776341              0\n",
       "34  0.809017      0.798464              0\n",
       "35  0.707107      0.798464              0\n",
       "36  0.587785      0.776341              0\n",
       "37  0.453990      0.732640              0\n",
       "38  0.309017      0.668436              0\n",
       "39  0.156434      0.585310              0"
      ]
     },
     "metadata": {},
     "output_type": "display_data"
    },
    {
     "data": {
      "image/png": "[encoded data removed]",
      "text/plain": [
       "<matplotlib.figure.Figure at 0x1a1582ea90>"
      ]
     },
     "metadata": {},
     "output_type": "display_data"
    },
    {
     "name": "stdout",
     "output_type": "stream",
     "text": [
      "1 outliers spotted with a threshold of 9\n"
     ]
    }
   ],
   "source": [
    "df_ex = rolling_mean_outlier_detection(df_ex,\"ordonnee\",threshold = 9,window = 10)"
   ]
  },
  {
   "cell_type": "markdown",
   "metadata": {
    "hidden": true
   },
   "source": [
    "**Note:** The below function spot outlier values in a time series according a a certain threshold, not that because the first value of  the rolling mean occurs after 10 observations (window = 10), it isn't possible to spot an outlier occuring before this observation explaining why only the 2nd outlier is found in the example below."
   ]
  },
  {
   "cell_type": "markdown",
   "metadata": {
    "hidden": true
   },
   "source": [
    "### Multivariate case:"
   ]
  },
  {
   "cell_type": "markdown",
   "metadata": {
    "hidden": true
   },
   "source": [
    "Spotting outliers not only within one attribute but accross a combination of attributes require more advanced clustering and distance based methods that we will partially describe below. "
   ]
  },
  {
   "cell_type": "markdown",
   "metadata": {
    "hidden": true
   },
   "source": [
    "#### Clustering: idea - small clusters are to be considered as outliers. "
   ]
  },
  {
   "cell_type": "markdown",
   "metadata": {
    "hidden": true
   },
   "source": [
    "#### Distance based method: idea - an instance with very few neightbors is an outlier"
   ]
  },
  {
   "cell_type": "code",
   "execution_count": 5,
   "metadata": {
    "ExecuteTime": {
     "end_time": "2019-08-04T02:55:50.602694Z",
     "start_time": "2019-08-04T02:55:50.593186Z"
    },
    "hidden": true
   },
   "outputs": [
    {
     "name": "stdout",
     "output_type": "stream",
     "text": [
      "to be continued\n"
     ]
    }
   ],
   "source": [
    "print(\"to be continued\")"
   ]
  },
  {
   "cell_type": "markdown",
   "metadata": {},
   "source": [
    "# Scaling and normalization"
   ]
  },
  {
   "cell_type": "markdown",
   "metadata": {},
   "source": [
    "The normalization of data is a critical step that precede the modelling part. It involves transforming each **numerical attribute** and align them on a common scale. To simplify, this normalization step **prevents certain attributes to over or under influence the model compare to what they should be.** Indeed, if a feature has a variance that is orders of magnitude larger than others, it might dominate the objective function and make the estimator unable to learn from other features correctly as expected\n",
    "\n",
    "Note: this normalization step is necessary before performing most models with the exception of decision trees that tend to be very robust with respect to arbitrary scalled data. This is also the case for regular linear regression but not for ridge and lasso regression. \n",
    "\n",
    "*This is worth a separate article to explain but basically the output value of a decision tree on a new instance is not directly influence by the scale of the values of the underlying instance's attributes but rather by the output of the decision tree itself, and the training data used to construct it.*"
   ]
  },
  {
   "cell_type": "markdown",
   "metadata": {},
   "source": [
    "There exists different normalization among which some of the most famous are :\n",
    "\n",
    "    - Standard Scaller\n",
    "    - Robust Scaller with many outliers\n",
    "    - Min-Max Scallers\n",
    "    - Max Absolute Scaler\n",
    "    \n",
    "Information and comparision about different scalling technics in scikit-learn is available here: https://scikit-learn.org/stable/auto_examples/preprocessing/plot_all_scaling.html#sphx-glr-auto-examples-preprocessing-plot-all-scaling-py"
   ]
  },
  {
   "cell_type": "markdown",
   "metadata": {},
   "source": [
    "### Standard Scaller"
   ]
  },
  {
   "cell_type": "markdown",
   "metadata": {},
   "source": [
    "Consist of removing the mean and divide the dataset by its standard deviation to obtain a Zero Mean and unit variance data (i.e. mean = 0 and standard deviation = 1)\n",
    "\n",
    "**Note:**\n",
    "- values can't contain NaN, check out replacing Missing Values section. "
   ]
  },
  {
   "cell_type": "code",
   "execution_count": 72,
   "metadata": {
    "ExecuteTime": {
     "end_time": "2019-08-06T02:20:14.952408Z",
     "start_time": "2019-08-06T02:20:14.948074Z"
    },
    "collapsed": true
   },
   "outputs": [],
   "source": [
    "from sklearn import preprocessing"
   ]
  },
  {
   "cell_type": "code",
   "execution_count": 86,
   "metadata": {
    "ExecuteTime": {
     "end_time": "2019-08-06T02:34:02.571426Z",
     "start_time": "2019-08-06T02:34:02.552332Z"
    }
   },
   "outputs": [
    {
     "data": {
      "text/html": [
       "<div>\n",
       "<style scoped>\n",
       "    .dataframe tbody tr th:only-of-type {\n",
       "        vertical-align: middle;\n",
       "    }\n",
       "\n",
       "    .dataframe tbody tr th {\n",
       "        vertical-align: top;\n",
       "    }\n",
       "\n",
       "    .dataframe thead th {\n",
       "        text-align: right;\n",
       "    }\n",
       "</style>\n",
       "<table border=\"1\" class=\"dataframe\">\n",
       "  <thead>\n",
       "    <tr style=\"text-align: right;\">\n",
       "      <th></th>\n",
       "      <th>col_1</th>\n",
       "      <th>col_2</th>\n",
       "    </tr>\n",
       "  </thead>\n",
       "  <tbody>\n",
       "    <tr>\n",
       "      <th>0</th>\n",
       "      <td>1</td>\n",
       "      <td>10</td>\n",
       "    </tr>\n",
       "    <tr>\n",
       "      <th>1</th>\n",
       "      <td>2</td>\n",
       "      <td>20</td>\n",
       "    </tr>\n",
       "    <tr>\n",
       "      <th>2</th>\n",
       "      <td>3</td>\n",
       "      <td>30</td>\n",
       "    </tr>\n",
       "    <tr>\n",
       "      <th>3</th>\n",
       "      <td>4</td>\n",
       "      <td>40</td>\n",
       "    </tr>\n",
       "  </tbody>\n",
       "</table>\n",
       "</div>"
      ],
      "text/plain": [
       "   col_1  col_2\n",
       "0      1     10\n",
       "1      2     20\n",
       "2      3     30\n",
       "3      4     40"
      ]
     },
     "metadata": {},
     "output_type": "display_data"
    },
    {
     "name": "stdout",
     "output_type": "stream",
     "text": [
      "col_1 mean:  2.5\n",
      "col_1 stdev:  1.2909944487358056\n",
      "col_1 mean:  25.0\n",
      "col_1 stdev:  1.2909944487358056\n"
     ]
    }
   ],
   "source": [
    "# Example dataframe to work out of in our example\n",
    "df = pd.DataFrame(data= {\"col_1\":[1,2,3,4],\"col_2\":[10,20,30,40]})\n",
    "display(df)\n",
    "print(\"col_1 mean: \", df['col_1'].mean())\n",
    "print(\"col_1 stdev: \", df['col_1'].std())\n",
    "print(\"col_1 mean: \", df['col_2'].mean())\n",
    "print(\"col_1 stdev: \", df['col_1'].std())"
   ]
  },
  {
   "cell_type": "code",
   "execution_count": 87,
   "metadata": {
    "ExecuteTime": {
     "end_time": "2019-08-06T02:34:02.903935Z",
     "start_time": "2019-08-06T02:34:02.875233Z"
    }
   },
   "outputs": [
    {
     "data": {
      "text/html": [
       "<div>\n",
       "<style scoped>\n",
       "    .dataframe tbody tr th:only-of-type {\n",
       "        vertical-align: middle;\n",
       "    }\n",
       "\n",
       "    .dataframe tbody tr th {\n",
       "        vertical-align: top;\n",
       "    }\n",
       "\n",
       "    .dataframe thead th {\n",
       "        text-align: right;\n",
       "    }\n",
       "</style>\n",
       "<table border=\"1\" class=\"dataframe\">\n",
       "  <thead>\n",
       "    <tr style=\"text-align: right;\">\n",
       "      <th></th>\n",
       "      <th>col_1</th>\n",
       "      <th>col_2</th>\n",
       "      <th>scalled_col_1</th>\n",
       "      <th>scalled_col_2</th>\n",
       "    </tr>\n",
       "  </thead>\n",
       "  <tbody>\n",
       "    <tr>\n",
       "      <th>0</th>\n",
       "      <td>1</td>\n",
       "      <td>10</td>\n",
       "      <td>-1.341641</td>\n",
       "      <td>-1.341641</td>\n",
       "    </tr>\n",
       "    <tr>\n",
       "      <th>1</th>\n",
       "      <td>2</td>\n",
       "      <td>20</td>\n",
       "      <td>-0.447214</td>\n",
       "      <td>-0.447214</td>\n",
       "    </tr>\n",
       "    <tr>\n",
       "      <th>2</th>\n",
       "      <td>3</td>\n",
       "      <td>30</td>\n",
       "      <td>0.447214</td>\n",
       "      <td>0.447214</td>\n",
       "    </tr>\n",
       "    <tr>\n",
       "      <th>3</th>\n",
       "      <td>4</td>\n",
       "      <td>40</td>\n",
       "      <td>1.341641</td>\n",
       "      <td>1.341641</td>\n",
       "    </tr>\n",
       "  </tbody>\n",
       "</table>\n",
       "</div>"
      ],
      "text/plain": [
       "   col_1  col_2  scalled_col_1  scalled_col_2\n",
       "0      1     10      -1.341641      -1.341641\n",
       "1      2     20      -0.447214      -0.447214\n",
       "2      3     30       0.447214       0.447214\n",
       "3      4     40       1.341641       1.341641"
      ]
     },
     "metadata": {},
     "output_type": "display_data"
    },
    {
     "name": "stdout",
     "output_type": "stream",
     "text": [
      "scalled_col_1 mean:  0.0\n",
      "scalled_col_1 stdev:  1.0\n",
      "scalled_col_2 mean:  0.0\n",
      "scalled_col_2 stdev:  1.0\n"
     ]
    }
   ],
   "source": [
    "# Now we normalize the data frame and display the new mean and standard deviations\n",
    "\n",
    "df['scalled_col_1']= pd.DataFrame(preprocessing.scale(df['col_1']))\n",
    "df['scalled_col_2']= pd.DataFrame(preprocessing.scale(df['col_2']))\n",
    "display(df)\n",
    "print(\"scalled_col_1 mean: \", df['scalled_col_1'].mean())\n",
    "print(\"scalled_col_1 stdev: \", preprocessing.scale(df['scalled_col_1']).std())\n",
    "print(\"scalled_col_2 mean: \", df['scalled_col_2'].mean())\n",
    "print(\"scalled_col_2 stdev: \", preprocessing.scale(df['scalled_col_2']).std())"
   ]
  },
  {
   "cell_type": "markdown",
   "metadata": {},
   "source": [
    "Note: applying the .std() method on one of the dataframe column (i.e. a serie) won't return a value of 1 because Pandas use the Bessel's correction by default -- that is, the standard deviation formula with N-1 instead of N in the denominator. "
   ]
  },
  {
   "cell_type": "markdown",
   "metadata": {},
   "source": [
    "standard deviation panda version :\n",
    "\n",
    "$$\\Large{\\frac{\\sum_{i=0}^{N}{({x_i - \\bar{x}})^2}}{n-1}}$$"
   ]
  },
  {
   "cell_type": "markdown",
   "metadata": {},
   "source": [
    "### Robust Scaller"
   ]
  },
  {
   "cell_type": "markdown",
   "metadata": {},
   "source": [
    "In case the data contains **many outliers, scalling using the mean or variance scalling is not advised**. Use the robust_scale and RobustScaler proves to be more appropriate. \n",
    "<br> What RobustScaler will do for instance is to remove the median and **scale the data to the quantile range** (by default, four different ranges, one for each quantile). The result is that the outliers will be scalled according to the 1st and last quantile while the values between the 2nd and 3rd quantile won't be affected.\n",
    "\n",
    "More info here: https://scikit-learn.org/stable/modules/generated/sklearn.preprocessing.robust_scale.html#sklearn.preprocessing.robust_scale"
   ]
  },
  {
   "cell_type": "code",
   "execution_count": 88,
   "metadata": {
    "ExecuteTime": {
     "end_time": "2019-08-06T02:34:14.143558Z",
     "start_time": "2019-08-06T02:34:14.106935Z"
    }
   },
   "outputs": [
    {
     "data": {
      "text/html": [
       "<div>\n",
       "<style scoped>\n",
       "    .dataframe tbody tr th:only-of-type {\n",
       "        vertical-align: middle;\n",
       "    }\n",
       "\n",
       "    .dataframe tbody tr th {\n",
       "        vertical-align: top;\n",
       "    }\n",
       "\n",
       "    .dataframe thead th {\n",
       "        text-align: right;\n",
       "    }\n",
       "</style>\n",
       "<table border=\"1\" class=\"dataframe\">\n",
       "  <thead>\n",
       "    <tr style=\"text-align: right;\">\n",
       "      <th></th>\n",
       "      <th>col_1</th>\n",
       "      <th>col_2</th>\n",
       "      <th>robust_scalled_col1</th>\n",
       "      <th>robust_scalled_col2</th>\n",
       "    </tr>\n",
       "  </thead>\n",
       "  <tbody>\n",
       "    <tr>\n",
       "      <th>0</th>\n",
       "      <td>1</td>\n",
       "      <td>10</td>\n",
       "      <td>-1.00</td>\n",
       "      <td>-1.00</td>\n",
       "    </tr>\n",
       "    <tr>\n",
       "      <th>1</th>\n",
       "      <td>2</td>\n",
       "      <td>20</td>\n",
       "      <td>-0.75</td>\n",
       "      <td>-0.75</td>\n",
       "    </tr>\n",
       "    <tr>\n",
       "      <th>2</th>\n",
       "      <td>3</td>\n",
       "      <td>30</td>\n",
       "      <td>-0.50</td>\n",
       "      <td>-0.50</td>\n",
       "    </tr>\n",
       "    <tr>\n",
       "      <th>3</th>\n",
       "      <td>4</td>\n",
       "      <td>40</td>\n",
       "      <td>-0.25</td>\n",
       "      <td>-0.25</td>\n",
       "    </tr>\n",
       "    <tr>\n",
       "      <th>4</th>\n",
       "      <td>5</td>\n",
       "      <td>50</td>\n",
       "      <td>0.00</td>\n",
       "      <td>0.00</td>\n",
       "    </tr>\n",
       "    <tr>\n",
       "      <th>5</th>\n",
       "      <td>6</td>\n",
       "      <td>60</td>\n",
       "      <td>0.25</td>\n",
       "      <td>0.25</td>\n",
       "    </tr>\n",
       "    <tr>\n",
       "      <th>6</th>\n",
       "      <td>7</td>\n",
       "      <td>70</td>\n",
       "      <td>0.50</td>\n",
       "      <td>0.50</td>\n",
       "    </tr>\n",
       "    <tr>\n",
       "      <th>7</th>\n",
       "      <td>8</td>\n",
       "      <td>80</td>\n",
       "      <td>0.75</td>\n",
       "      <td>0.75</td>\n",
       "    </tr>\n",
       "    <tr>\n",
       "      <th>8</th>\n",
       "      <td>50</td>\n",
       "      <td>900</td>\n",
       "      <td>11.25</td>\n",
       "      <td>21.25</td>\n",
       "    </tr>\n",
       "  </tbody>\n",
       "</table>\n",
       "</div>"
      ],
      "text/plain": [
       "   col_1  col_2  robust_scalled_col1  robust_scalled_col2\n",
       "0      1     10                -1.00                -1.00\n",
       "1      2     20                -0.75                -0.75\n",
       "2      3     30                -0.50                -0.50\n",
       "3      4     40                -0.25                -0.25\n",
       "4      5     50                 0.00                 0.00\n",
       "5      6     60                 0.25                 0.25\n",
       "6      7     70                 0.50                 0.50\n",
       "7      8     80                 0.75                 0.75\n",
       "8     50    900                11.25                21.25"
      ]
     },
     "metadata": {},
     "output_type": "display_data"
    },
    {
     "name": "stdout",
     "output_type": "stream",
     "text": [
      "robust_scalled_col1 mean:  1.1388888888888888\n",
      "robust_scalled_col1 stdev:  3.61538208967\n",
      "robust_scalled_col2 mean:  2.25\n",
      "robust_scalled_col2 stdev:  6.73918887305\n"
     ]
    }
   ],
   "source": [
    "# Example dataframe\n",
    "df = pd.DataFrame(data= {\"col_1\":[1,2,3,4,5,6,7,8,50],\"col_2\":[10,20,30,40,50,60,70,80,900]})\n",
    "\n",
    "# Scalling \n",
    "robust = preprocessing.RobustScaler(with_centering=True, with_scaling=True, quantile_range=(25.0, 75.0), copy=True)\n",
    "df['robust_scalled_col1'] = robust.fit_transform(np.array(df[\"col_1\"]).reshape(-1, 1))\n",
    "df['robust_scalled_col2'] = robust.fit_transform(np.array(df[\"col_2\"]).reshape(-1, 1))\n",
    "display(df)\n",
    "\n",
    "print(\"robust_scalled_col1 mean: \", df['robust_scalled_col1'].mean())\n",
    "print(\"robust_scalled_col1 stdev: \", robust.fit_transform(np.array(df[\"robust_scalled_col1\"]).reshape(-1, 1)).std())\n",
    "print(\"robust_scalled_col2 mean: \", df['robust_scalled_col2'].mean())\n",
    "print(\"robust_scalled_col2 stdev: \", robust.fit_transform(np.array(df[\"robust_scalled_col2\"]).reshape(-1, 1)).std())"
   ]
  },
  {
   "cell_type": "markdown",
   "metadata": {},
   "source": [
    "### Min - Max Scaller"
   ]
  },
  {
   "cell_type": "markdown",
   "metadata": {},
   "source": [
    "The min max scaller rescales the **data between 0 and 1** (while it is possible to request another range throught the feature range parameter). **This scalling method is very sensitive to outliers**."
   ]
  },
  {
   "cell_type": "code",
   "execution_count": 89,
   "metadata": {
    "ExecuteTime": {
     "end_time": "2019-08-06T02:34:32.522372Z",
     "start_time": "2019-08-06T02:34:32.482687Z"
    }
   },
   "outputs": [
    {
     "data": {
      "text/html": [
       "<div>\n",
       "<style scoped>\n",
       "    .dataframe tbody tr th:only-of-type {\n",
       "        vertical-align: middle;\n",
       "    }\n",
       "\n",
       "    .dataframe tbody tr th {\n",
       "        vertical-align: top;\n",
       "    }\n",
       "\n",
       "    .dataframe thead th {\n",
       "        text-align: right;\n",
       "    }\n",
       "</style>\n",
       "<table border=\"1\" class=\"dataframe\">\n",
       "  <thead>\n",
       "    <tr style=\"text-align: right;\">\n",
       "      <th></th>\n",
       "      <th>col_1</th>\n",
       "      <th>col_2</th>\n",
       "      <th>min_max_col1</th>\n",
       "      <th>min_max_col2</th>\n",
       "    </tr>\n",
       "  </thead>\n",
       "  <tbody>\n",
       "    <tr>\n",
       "      <th>0</th>\n",
       "      <td>1</td>\n",
       "      <td>10</td>\n",
       "      <td>0.000000</td>\n",
       "      <td>0.000000</td>\n",
       "    </tr>\n",
       "    <tr>\n",
       "      <th>1</th>\n",
       "      <td>2</td>\n",
       "      <td>20</td>\n",
       "      <td>0.020408</td>\n",
       "      <td>0.011236</td>\n",
       "    </tr>\n",
       "    <tr>\n",
       "      <th>2</th>\n",
       "      <td>3</td>\n",
       "      <td>30</td>\n",
       "      <td>0.040816</td>\n",
       "      <td>0.022472</td>\n",
       "    </tr>\n",
       "    <tr>\n",
       "      <th>3</th>\n",
       "      <td>4</td>\n",
       "      <td>40</td>\n",
       "      <td>0.061224</td>\n",
       "      <td>0.033708</td>\n",
       "    </tr>\n",
       "    <tr>\n",
       "      <th>4</th>\n",
       "      <td>5</td>\n",
       "      <td>50</td>\n",
       "      <td>0.081633</td>\n",
       "      <td>0.044944</td>\n",
       "    </tr>\n",
       "    <tr>\n",
       "      <th>5</th>\n",
       "      <td>6</td>\n",
       "      <td>60</td>\n",
       "      <td>0.102041</td>\n",
       "      <td>0.056180</td>\n",
       "    </tr>\n",
       "    <tr>\n",
       "      <th>6</th>\n",
       "      <td>7</td>\n",
       "      <td>70</td>\n",
       "      <td>0.122449</td>\n",
       "      <td>0.067416</td>\n",
       "    </tr>\n",
       "    <tr>\n",
       "      <th>7</th>\n",
       "      <td>8</td>\n",
       "      <td>80</td>\n",
       "      <td>0.142857</td>\n",
       "      <td>0.078652</td>\n",
       "    </tr>\n",
       "    <tr>\n",
       "      <th>8</th>\n",
       "      <td>50</td>\n",
       "      <td>900</td>\n",
       "      <td>1.000000</td>\n",
       "      <td>1.000000</td>\n",
       "    </tr>\n",
       "  </tbody>\n",
       "</table>\n",
       "</div>"
      ],
      "text/plain": [
       "   col_1  col_2  min_max_col1  min_max_col2\n",
       "0      1     10      0.000000      0.000000\n",
       "1      2     20      0.020408      0.011236\n",
       "2      3     30      0.040816      0.022472\n",
       "3      4     40      0.061224      0.033708\n",
       "4      5     50      0.081633      0.044944\n",
       "5      6     60      0.102041      0.056180\n",
       "6      7     70      0.122449      0.067416\n",
       "7      8     80      0.142857      0.078652\n",
       "8     50    900      1.000000      1.000000"
      ]
     },
     "metadata": {},
     "output_type": "display_data"
    },
    {
     "name": "stdout",
     "output_type": "stream",
     "text": [
      "min_max_col1 mean:  0.1746031746031746\n",
      "min_max_col1 stdev:  0.29513323181\n",
      "min_max_col2 mean:  0.1460674157303371\n",
      "min_max_col2 stdev:  0.302884893171\n"
     ]
    }
   ],
   "source": [
    "# Example dataframe\n",
    "df = pd.DataFrame(data= {\"col_1\":[1,2,3,4,5,6,7,8,50],\"col_2\":[10,20,30,40,50,60,70,80,900]})\n",
    "\n",
    "# Defining the scaller\n",
    "min_max_scaller = preprocessing.MinMaxScaler()\n",
    "\n",
    "# Fitting and transforming\n",
    "df['min_max_col1'] = min_max_scaller.fit_transform(np.array(df['col_1']).reshape(-1, 1))\n",
    "df['min_max_col2'] = min_max_scaller.fit_transform(np.array(df['col_2']).reshape(-1, 1))\n",
    "display(df)\n",
    "\n",
    "\n",
    "print(\"min_max_col1 mean: \", df['min_max_col1'].mean())\n",
    "print(\"min_max_col1 stdev: \", min_max_scaller.fit_transform(np.array(df['min_max_col1']).reshape(-1, 1)).std())\n",
    "print(\"min_max_col2 mean: \", df['min_max_col2'].mean())\n",
    "print(\"min_max_col2 stdev: \", min_max_scaller.fit_transform(np.array(df['min_max_col2']).reshape(-1, 1)).std())"
   ]
  },
  {
   "cell_type": "markdown",
   "metadata": {},
   "source": [
    "### Max Absolute Scaler"
   ]
  },
  {
   "cell_type": "markdown",
   "metadata": {},
   "source": [
    "Very similar to min-max scaller, and equally sensitive to outliers, but the output lays between **0 excluded**. The advantage is that no value is transformed to 0 alike the min max scaller."
   ]
  },
  {
   "cell_type": "code",
   "execution_count": 134,
   "metadata": {
    "ExecuteTime": {
     "end_time": "2019-08-06T03:05:53.490914Z",
     "start_time": "2019-08-06T03:05:53.455361Z"
    }
   },
   "outputs": [
    {
     "data": {
      "text/html": [
       "<div>\n",
       "<style scoped>\n",
       "    .dataframe tbody tr th:only-of-type {\n",
       "        vertical-align: middle;\n",
       "    }\n",
       "\n",
       "    .dataframe tbody tr th {\n",
       "        vertical-align: top;\n",
       "    }\n",
       "\n",
       "    .dataframe thead th {\n",
       "        text-align: right;\n",
       "    }\n",
       "</style>\n",
       "<table border=\"1\" class=\"dataframe\">\n",
       "  <thead>\n",
       "    <tr style=\"text-align: right;\">\n",
       "      <th></th>\n",
       "      <th>col_1</th>\n",
       "      <th>col_2</th>\n",
       "      <th>max_abs_col1</th>\n",
       "      <th>max_abs_col2</th>\n",
       "    </tr>\n",
       "  </thead>\n",
       "  <tbody>\n",
       "    <tr>\n",
       "      <th>0</th>\n",
       "      <td>1</td>\n",
       "      <td>10</td>\n",
       "      <td>0.125</td>\n",
       "      <td>0.125</td>\n",
       "    </tr>\n",
       "    <tr>\n",
       "      <th>1</th>\n",
       "      <td>2</td>\n",
       "      <td>20</td>\n",
       "      <td>0.250</td>\n",
       "      <td>0.250</td>\n",
       "    </tr>\n",
       "    <tr>\n",
       "      <th>2</th>\n",
       "      <td>3</td>\n",
       "      <td>30</td>\n",
       "      <td>0.375</td>\n",
       "      <td>0.375</td>\n",
       "    </tr>\n",
       "    <tr>\n",
       "      <th>3</th>\n",
       "      <td>4</td>\n",
       "      <td>40</td>\n",
       "      <td>0.500</td>\n",
       "      <td>0.500</td>\n",
       "    </tr>\n",
       "    <tr>\n",
       "      <th>4</th>\n",
       "      <td>5</td>\n",
       "      <td>50</td>\n",
       "      <td>0.625</td>\n",
       "      <td>0.625</td>\n",
       "    </tr>\n",
       "    <tr>\n",
       "      <th>5</th>\n",
       "      <td>6</td>\n",
       "      <td>60</td>\n",
       "      <td>0.750</td>\n",
       "      <td>0.750</td>\n",
       "    </tr>\n",
       "    <tr>\n",
       "      <th>6</th>\n",
       "      <td>7</td>\n",
       "      <td>70</td>\n",
       "      <td>0.875</td>\n",
       "      <td>0.875</td>\n",
       "    </tr>\n",
       "    <tr>\n",
       "      <th>7</th>\n",
       "      <td>8</td>\n",
       "      <td>80</td>\n",
       "      <td>1.000</td>\n",
       "      <td>1.000</td>\n",
       "    </tr>\n",
       "  </tbody>\n",
       "</table>\n",
       "</div>"
      ],
      "text/plain": [
       "   col_1  col_2  max_abs_col1  max_abs_col2\n",
       "0      1     10         0.125         0.125\n",
       "1      2     20         0.250         0.250\n",
       "2      3     30         0.375         0.375\n",
       "3      4     40         0.500         0.500\n",
       "4      5     50         0.625         0.625\n",
       "5      6     60         0.750         0.750\n",
       "6      7     70         0.875         0.875\n",
       "7      8     80         1.000         1.000"
      ]
     },
     "metadata": {},
     "output_type": "display_data"
    },
    {
     "name": "stdout",
     "output_type": "stream",
     "text": [
      "max_abs_col1 mean:  0.5625\n",
      "max_abs_col1 stdev:  0.286410980935\n",
      "max_abs_col2 mean:  0.5625\n",
      "max_abs_col2 stdev:  0.286410980935\n"
     ]
    }
   ],
   "source": [
    "# Example dataframe\n",
    "df = pd.DataFrame(data= {\"col_1\":[1,2,3,4,5,6,7,8],\"col_2\":[10,20,30,40,50,60,70,80]})\n",
    "\n",
    "\n",
    "# Defining the scaller\n",
    "max_abs_scaler = preprocessing.MaxAbsScaler()\n",
    "\n",
    "# Fitting and transforming\n",
    "df['max_abs_col1'] = max_abs_scaler.fit_transform(np.array(df['col_1']).reshape(-1, 1))\n",
    "df['max_abs_col2'] = max_abs_scaler.fit_transform(np.array(df['col_2']).reshape(-1, 1))\n",
    "display(df)\n",
    "\n",
    "print(\"max_abs_col1 mean: \", df['max_abs_col1'].mean())\n",
    "print(\"max_abs_col1 stdev: \", max_abs_scaler.fit_transform(np.array(df['max_abs_col1']).reshape(-1, 1)).std())\n",
    "print(\"max_abs_col2 mean: \", df['max_abs_col2'].mean())\n",
    "print(\"max_abs_col2 stdev: \", max_abs_scaler.fit_transform(np.array(df['max_abs_col2']).reshape(-1, 1)).std())\n"
   ]
  },
  {
   "cell_type": "code",
   "execution_count": 135,
   "metadata": {
    "ExecuteTime": {
     "end_time": "2019-08-06T03:06:12.555686Z",
     "start_time": "2019-08-06T03:06:12.549950Z"
    }
   },
   "outputs": [
    {
     "name": "stdout",
     "output_type": "stream",
     "text": [
      "to be continued\n"
     ]
    }
   ],
   "source": [
    "print(\"to be continued\")"
   ]
  },
  {
   "cell_type": "code",
   "execution_count": 136,
   "metadata": {
    "ExecuteTime": {
     "end_time": "2019-08-06T03:19:13.447728Z",
     "start_time": "2019-08-06T03:19:13.441198Z"
    }
   },
   "outputs": [
    {
     "name": "stdout",
     "output_type": "stream",
     "text": [
      "to be continued 2\n"
     ]
    }
   ],
   "source": [
    "print(\"to be continued 2\")"
   ]
  },
  {
   "cell_type": "code",
   "execution_count": null,
   "metadata": {
    "collapsed": true
   },
   "outputs": [],
   "source": []
  }
 ],
 "metadata": {
  "kernelspec": {
   "display_name": "Python 3",
   "language": "python",
   "name": "python3"
  },
  "language_info": {
   "codemirror_mode": {
    "name": "ipython",
    "version": 3
   },
   "file_extension": ".py",
   "mimetype": "text/x-python",
   "name": "python",
   "nbconvert_exporter": "python",
   "pygments_lexer": "ipython3",
   "version": "3.6.3"
  }
 },
 "nbformat": 4,
 "nbformat_minor": 2
}
